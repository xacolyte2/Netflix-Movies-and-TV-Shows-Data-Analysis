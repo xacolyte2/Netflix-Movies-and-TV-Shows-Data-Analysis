{
 "cells": [
  {
   "cell_type": "code",
   "execution_count": 1,
   "id": "fc1bcceb",
   "metadata": {
    "execution": {
     "iopub.execute_input": "2024-08-27T14:51:37.607012Z",
     "iopub.status.busy": "2024-08-27T14:51:37.606531Z",
     "iopub.status.idle": "2024-08-27T14:51:40.276312Z",
     "shell.execute_reply": "2024-08-27T14:51:40.275054Z"
    },
    "papermill": {
     "duration": 2.680695,
     "end_time": "2024-08-27T14:51:40.279468",
     "exception": false,
     "start_time": "2024-08-27T14:51:37.598773",
     "status": "completed"
    },
    "tags": []
   },
   "outputs": [],
   "source": [
    "import pandas as pd\n",
    "import numpy as np\n",
    "import seaborn as sns\n",
    "import matplotlib.pyplot as plt\n",
    "\n",
    "df = pd.read_csv(\"/kaggle/input/netflix-shows/netflix_titles.csv\")"
   ]
  },
  {
   "cell_type": "code",
   "execution_count": 2,
   "id": "29a8f641",
   "metadata": {
    "execution": {
     "iopub.execute_input": "2024-08-27T14:51:40.292089Z",
     "iopub.status.busy": "2024-08-27T14:51:40.291649Z",
     "iopub.status.idle": "2024-08-27T14:51:40.324386Z",
     "shell.execute_reply": "2024-08-27T14:51:40.323053Z"
    },
    "papermill": {
     "duration": 0.042187,
     "end_time": "2024-08-27T14:51:40.327156",
     "exception": false,
     "start_time": "2024-08-27T14:51:40.284969",
     "status": "completed"
    },
    "tags": []
   },
   "outputs": [
    {
     "data": {
      "text/html": [
       "<div>\n",
       "<style scoped>\n",
       "    .dataframe tbody tr th:only-of-type {\n",
       "        vertical-align: middle;\n",
       "    }\n",
       "\n",
       "    .dataframe tbody tr th {\n",
       "        vertical-align: top;\n",
       "    }\n",
       "\n",
       "    .dataframe thead th {\n",
       "        text-align: right;\n",
       "    }\n",
       "</style>\n",
       "<table border=\"1\" class=\"dataframe\">\n",
       "  <thead>\n",
       "    <tr style=\"text-align: right;\">\n",
       "      <th></th>\n",
       "      <th>show_id</th>\n",
       "      <th>type</th>\n",
       "      <th>title</th>\n",
       "      <th>director</th>\n",
       "      <th>cast</th>\n",
       "      <th>country</th>\n",
       "      <th>date_added</th>\n",
       "      <th>release_year</th>\n",
       "      <th>rating</th>\n",
       "      <th>duration</th>\n",
       "      <th>listed_in</th>\n",
       "      <th>description</th>\n",
       "    </tr>\n",
       "  </thead>\n",
       "  <tbody>\n",
       "    <tr>\n",
       "      <th>0</th>\n",
       "      <td>s1</td>\n",
       "      <td>Movie</td>\n",
       "      <td>Dick Johnson Is Dead</td>\n",
       "      <td>Kirsten Johnson</td>\n",
       "      <td>NaN</td>\n",
       "      <td>United States</td>\n",
       "      <td>September 25, 2021</td>\n",
       "      <td>2020</td>\n",
       "      <td>PG-13</td>\n",
       "      <td>90 min</td>\n",
       "      <td>Documentaries</td>\n",
       "      <td>As her father nears the end of his life, filmm...</td>\n",
       "    </tr>\n",
       "    <tr>\n",
       "      <th>1</th>\n",
       "      <td>s2</td>\n",
       "      <td>TV Show</td>\n",
       "      <td>Blood &amp; Water</td>\n",
       "      <td>NaN</td>\n",
       "      <td>Ama Qamata, Khosi Ngema, Gail Mabalane, Thaban...</td>\n",
       "      <td>South Africa</td>\n",
       "      <td>September 24, 2021</td>\n",
       "      <td>2021</td>\n",
       "      <td>TV-MA</td>\n",
       "      <td>2 Seasons</td>\n",
       "      <td>International TV Shows, TV Dramas, TV Mysteries</td>\n",
       "      <td>After crossing paths at a party, a Cape Town t...</td>\n",
       "    </tr>\n",
       "    <tr>\n",
       "      <th>2</th>\n",
       "      <td>s3</td>\n",
       "      <td>TV Show</td>\n",
       "      <td>Ganglands</td>\n",
       "      <td>Julien Leclercq</td>\n",
       "      <td>Sami Bouajila, Tracy Gotoas, Samuel Jouy, Nabi...</td>\n",
       "      <td>NaN</td>\n",
       "      <td>September 24, 2021</td>\n",
       "      <td>2021</td>\n",
       "      <td>TV-MA</td>\n",
       "      <td>1 Season</td>\n",
       "      <td>Crime TV Shows, International TV Shows, TV Act...</td>\n",
       "      <td>To protect his family from a powerful drug lor...</td>\n",
       "    </tr>\n",
       "    <tr>\n",
       "      <th>3</th>\n",
       "      <td>s4</td>\n",
       "      <td>TV Show</td>\n",
       "      <td>Jailbirds New Orleans</td>\n",
       "      <td>NaN</td>\n",
       "      <td>NaN</td>\n",
       "      <td>NaN</td>\n",
       "      <td>September 24, 2021</td>\n",
       "      <td>2021</td>\n",
       "      <td>TV-MA</td>\n",
       "      <td>1 Season</td>\n",
       "      <td>Docuseries, Reality TV</td>\n",
       "      <td>Feuds, flirtations and toilet talk go down amo...</td>\n",
       "    </tr>\n",
       "    <tr>\n",
       "      <th>4</th>\n",
       "      <td>s5</td>\n",
       "      <td>TV Show</td>\n",
       "      <td>Kota Factory</td>\n",
       "      <td>NaN</td>\n",
       "      <td>Mayur More, Jitendra Kumar, Ranjan Raj, Alam K...</td>\n",
       "      <td>India</td>\n",
       "      <td>September 24, 2021</td>\n",
       "      <td>2021</td>\n",
       "      <td>TV-MA</td>\n",
       "      <td>2 Seasons</td>\n",
       "      <td>International TV Shows, Romantic TV Shows, TV ...</td>\n",
       "      <td>In a city of coaching centers known to train I...</td>\n",
       "    </tr>\n",
       "    <tr>\n",
       "      <th>5</th>\n",
       "      <td>s6</td>\n",
       "      <td>TV Show</td>\n",
       "      <td>Midnight Mass</td>\n",
       "      <td>Mike Flanagan</td>\n",
       "      <td>Kate Siegel, Zach Gilford, Hamish Linklater, H...</td>\n",
       "      <td>NaN</td>\n",
       "      <td>September 24, 2021</td>\n",
       "      <td>2021</td>\n",
       "      <td>TV-MA</td>\n",
       "      <td>1 Season</td>\n",
       "      <td>TV Dramas, TV Horror, TV Mysteries</td>\n",
       "      <td>The arrival of a charismatic young priest brin...</td>\n",
       "    </tr>\n",
       "    <tr>\n",
       "      <th>6</th>\n",
       "      <td>s7</td>\n",
       "      <td>Movie</td>\n",
       "      <td>My Little Pony: A New Generation</td>\n",
       "      <td>Robert Cullen, José Luis Ucha</td>\n",
       "      <td>Vanessa Hudgens, Kimiko Glenn, James Marsden, ...</td>\n",
       "      <td>NaN</td>\n",
       "      <td>September 24, 2021</td>\n",
       "      <td>2021</td>\n",
       "      <td>PG</td>\n",
       "      <td>91 min</td>\n",
       "      <td>Children &amp; Family Movies</td>\n",
       "      <td>Equestria's divided. But a bright-eyed hero be...</td>\n",
       "    </tr>\n",
       "    <tr>\n",
       "      <th>7</th>\n",
       "      <td>s8</td>\n",
       "      <td>Movie</td>\n",
       "      <td>Sankofa</td>\n",
       "      <td>Haile Gerima</td>\n",
       "      <td>Kofi Ghanaba, Oyafunmike Ogunlano, Alexandra D...</td>\n",
       "      <td>United States, Ghana, Burkina Faso, United Kin...</td>\n",
       "      <td>September 24, 2021</td>\n",
       "      <td>1993</td>\n",
       "      <td>TV-MA</td>\n",
       "      <td>125 min</td>\n",
       "      <td>Dramas, Independent Movies, International Movies</td>\n",
       "      <td>On a photo shoot in Ghana, an American model s...</td>\n",
       "    </tr>\n",
       "    <tr>\n",
       "      <th>8</th>\n",
       "      <td>s9</td>\n",
       "      <td>TV Show</td>\n",
       "      <td>The Great British Baking Show</td>\n",
       "      <td>Andy Devonshire</td>\n",
       "      <td>Mel Giedroyc, Sue Perkins, Mary Berry, Paul Ho...</td>\n",
       "      <td>United Kingdom</td>\n",
       "      <td>September 24, 2021</td>\n",
       "      <td>2021</td>\n",
       "      <td>TV-14</td>\n",
       "      <td>9 Seasons</td>\n",
       "      <td>British TV Shows, Reality TV</td>\n",
       "      <td>A talented batch of amateur bakers face off in...</td>\n",
       "    </tr>\n",
       "    <tr>\n",
       "      <th>9</th>\n",
       "      <td>s10</td>\n",
       "      <td>Movie</td>\n",
       "      <td>The Starling</td>\n",
       "      <td>Theodore Melfi</td>\n",
       "      <td>Melissa McCarthy, Chris O'Dowd, Kevin Kline, T...</td>\n",
       "      <td>United States</td>\n",
       "      <td>September 24, 2021</td>\n",
       "      <td>2021</td>\n",
       "      <td>PG-13</td>\n",
       "      <td>104 min</td>\n",
       "      <td>Comedies, Dramas</td>\n",
       "      <td>A woman adjusting to life after a loss contend...</td>\n",
       "    </tr>\n",
       "  </tbody>\n",
       "</table>\n",
       "</div>"
      ],
      "text/plain": [
       "  show_id     type                             title  \\\n",
       "0      s1    Movie              Dick Johnson Is Dead   \n",
       "1      s2  TV Show                     Blood & Water   \n",
       "2      s3  TV Show                         Ganglands   \n",
       "3      s4  TV Show             Jailbirds New Orleans   \n",
       "4      s5  TV Show                      Kota Factory   \n",
       "5      s6  TV Show                     Midnight Mass   \n",
       "6      s7    Movie  My Little Pony: A New Generation   \n",
       "7      s8    Movie                           Sankofa   \n",
       "8      s9  TV Show     The Great British Baking Show   \n",
       "9     s10    Movie                      The Starling   \n",
       "\n",
       "                        director  \\\n",
       "0                Kirsten Johnson   \n",
       "1                            NaN   \n",
       "2                Julien Leclercq   \n",
       "3                            NaN   \n",
       "4                            NaN   \n",
       "5                  Mike Flanagan   \n",
       "6  Robert Cullen, José Luis Ucha   \n",
       "7                   Haile Gerima   \n",
       "8                Andy Devonshire   \n",
       "9                 Theodore Melfi   \n",
       "\n",
       "                                                cast  \\\n",
       "0                                                NaN   \n",
       "1  Ama Qamata, Khosi Ngema, Gail Mabalane, Thaban...   \n",
       "2  Sami Bouajila, Tracy Gotoas, Samuel Jouy, Nabi...   \n",
       "3                                                NaN   \n",
       "4  Mayur More, Jitendra Kumar, Ranjan Raj, Alam K...   \n",
       "5  Kate Siegel, Zach Gilford, Hamish Linklater, H...   \n",
       "6  Vanessa Hudgens, Kimiko Glenn, James Marsden, ...   \n",
       "7  Kofi Ghanaba, Oyafunmike Ogunlano, Alexandra D...   \n",
       "8  Mel Giedroyc, Sue Perkins, Mary Berry, Paul Ho...   \n",
       "9  Melissa McCarthy, Chris O'Dowd, Kevin Kline, T...   \n",
       "\n",
       "                                             country          date_added  \\\n",
       "0                                      United States  September 25, 2021   \n",
       "1                                       South Africa  September 24, 2021   \n",
       "2                                                NaN  September 24, 2021   \n",
       "3                                                NaN  September 24, 2021   \n",
       "4                                              India  September 24, 2021   \n",
       "5                                                NaN  September 24, 2021   \n",
       "6                                                NaN  September 24, 2021   \n",
       "7  United States, Ghana, Burkina Faso, United Kin...  September 24, 2021   \n",
       "8                                     United Kingdom  September 24, 2021   \n",
       "9                                      United States  September 24, 2021   \n",
       "\n",
       "   release_year rating   duration  \\\n",
       "0          2020  PG-13     90 min   \n",
       "1          2021  TV-MA  2 Seasons   \n",
       "2          2021  TV-MA   1 Season   \n",
       "3          2021  TV-MA   1 Season   \n",
       "4          2021  TV-MA  2 Seasons   \n",
       "5          2021  TV-MA   1 Season   \n",
       "6          2021     PG     91 min   \n",
       "7          1993  TV-MA    125 min   \n",
       "8          2021  TV-14  9 Seasons   \n",
       "9          2021  PG-13    104 min   \n",
       "\n",
       "                                           listed_in  \\\n",
       "0                                      Documentaries   \n",
       "1    International TV Shows, TV Dramas, TV Mysteries   \n",
       "2  Crime TV Shows, International TV Shows, TV Act...   \n",
       "3                             Docuseries, Reality TV   \n",
       "4  International TV Shows, Romantic TV Shows, TV ...   \n",
       "5                 TV Dramas, TV Horror, TV Mysteries   \n",
       "6                           Children & Family Movies   \n",
       "7   Dramas, Independent Movies, International Movies   \n",
       "8                       British TV Shows, Reality TV   \n",
       "9                                   Comedies, Dramas   \n",
       "\n",
       "                                         description  \n",
       "0  As her father nears the end of his life, filmm...  \n",
       "1  After crossing paths at a party, a Cape Town t...  \n",
       "2  To protect his family from a powerful drug lor...  \n",
       "3  Feuds, flirtations and toilet talk go down amo...  \n",
       "4  In a city of coaching centers known to train I...  \n",
       "5  The arrival of a charismatic young priest brin...  \n",
       "6  Equestria's divided. But a bright-eyed hero be...  \n",
       "7  On a photo shoot in Ghana, an American model s...  \n",
       "8  A talented batch of amateur bakers face off in...  \n",
       "9  A woman adjusting to life after a loss contend...  "
      ]
     },
     "execution_count": 2,
     "metadata": {},
     "output_type": "execute_result"
    }
   ],
   "source": [
    "df.head(10)"
   ]
  },
  {
   "cell_type": "code",
   "execution_count": 3,
   "id": "1edad1a8",
   "metadata": {
    "execution": {
     "iopub.execute_input": "2024-08-27T14:51:40.341624Z",
     "iopub.status.busy": "2024-08-27T14:51:40.341151Z",
     "iopub.status.idle": "2024-08-27T14:51:40.364610Z",
     "shell.execute_reply": "2024-08-27T14:51:40.363278Z"
    },
    "papermill": {
     "duration": 0.034092,
     "end_time": "2024-08-27T14:51:40.367418",
     "exception": false,
     "start_time": "2024-08-27T14:51:40.333326",
     "status": "completed"
    },
    "tags": []
   },
   "outputs": [
    {
     "data": {
      "text/plain": [
       "show_id            0\n",
       "type               0\n",
       "title              0\n",
       "director        2634\n",
       "cast             825\n",
       "country          831\n",
       "date_added        10\n",
       "release_year       0\n",
       "rating             4\n",
       "duration           3\n",
       "listed_in          0\n",
       "description        0\n",
       "dtype: int64"
      ]
     },
     "execution_count": 3,
     "metadata": {},
     "output_type": "execute_result"
    }
   ],
   "source": [
    "df.isna().sum()"
   ]
  },
  {
   "cell_type": "code",
   "execution_count": 4,
   "id": "b25a8a84",
   "metadata": {
    "execution": {
     "iopub.execute_input": "2024-08-27T14:51:40.381306Z",
     "iopub.status.busy": "2024-08-27T14:51:40.380904Z",
     "iopub.status.idle": "2024-08-27T14:51:40.395140Z",
     "shell.execute_reply": "2024-08-27T14:51:40.394139Z"
    },
    "papermill": {
     "duration": 0.024622,
     "end_time": "2024-08-27T14:51:40.398099",
     "exception": false,
     "start_time": "2024-08-27T14:51:40.373477",
     "status": "completed"
    },
    "tags": []
   },
   "outputs": [],
   "source": [
    "# Fill null values in the 'Cabin' column with \"unknown\"\n",
    "df['director'] = df['director'].fillna(\"unknown\")\n",
    "\n",
    "# Fill null values in the 'cast' column with \"unknown\"\n",
    "df['cast'] = df['cast'].fillna(\"unknown\")\n",
    "\n",
    "# Fill null values in the 'country' column with \"unknown\"\n",
    "df['country'] = df['country'].fillna(\"unknown\")"
   ]
  },
  {
   "cell_type": "code",
   "execution_count": 5,
   "id": "ef7c8219",
   "metadata": {
    "execution": {
     "iopub.execute_input": "2024-08-27T14:51:40.413316Z",
     "iopub.status.busy": "2024-08-27T14:51:40.412904Z",
     "iopub.status.idle": "2024-08-27T14:51:40.444320Z",
     "shell.execute_reply": "2024-08-27T14:51:40.442492Z"
    },
    "papermill": {
     "duration": 0.043745,
     "end_time": "2024-08-27T14:51:40.448200",
     "exception": false,
     "start_time": "2024-08-27T14:51:40.404455",
     "status": "completed"
    },
    "tags": []
   },
   "outputs": [],
   "source": [
    "df.dropna(inplace = True)"
   ]
  },
  {
   "cell_type": "code",
   "execution_count": 6,
   "id": "14120d52",
   "metadata": {
    "execution": {
     "iopub.execute_input": "2024-08-27T14:51:40.463540Z",
     "iopub.status.busy": "2024-08-27T14:51:40.463052Z",
     "iopub.status.idle": "2024-08-27T14:51:40.485505Z",
     "shell.execute_reply": "2024-08-27T14:51:40.484366Z"
    },
    "papermill": {
     "duration": 0.03327,
     "end_time": "2024-08-27T14:51:40.488282",
     "exception": false,
     "start_time": "2024-08-27T14:51:40.455012",
     "status": "completed"
    },
    "tags": []
   },
   "outputs": [
    {
     "data": {
      "text/plain": [
       "show_id         0\n",
       "type            0\n",
       "title           0\n",
       "director        0\n",
       "cast            0\n",
       "country         0\n",
       "date_added      0\n",
       "release_year    0\n",
       "rating          0\n",
       "duration        0\n",
       "listed_in       0\n",
       "description     0\n",
       "dtype: int64"
      ]
     },
     "execution_count": 6,
     "metadata": {},
     "output_type": "execute_result"
    }
   ],
   "source": [
    "df.isna().sum()"
   ]
  },
  {
   "cell_type": "code",
   "execution_count": 7,
   "id": "0cbe345c",
   "metadata": {
    "execution": {
     "iopub.execute_input": "2024-08-27T14:51:40.504791Z",
     "iopub.status.busy": "2024-08-27T14:51:40.504344Z",
     "iopub.status.idle": "2024-08-27T14:51:40.542999Z",
     "shell.execute_reply": "2024-08-27T14:51:40.541673Z"
    },
    "papermill": {
     "duration": 0.050607,
     "end_time": "2024-08-27T14:51:40.545970",
     "exception": false,
     "start_time": "2024-08-27T14:51:40.495363",
     "status": "completed"
    },
    "tags": []
   },
   "outputs": [
    {
     "data": {
      "text/plain": [
       "0"
      ]
     },
     "execution_count": 7,
     "metadata": {},
     "output_type": "execute_result"
    }
   ],
   "source": [
    "df.duplicated().sum()"
   ]
  },
  {
   "cell_type": "markdown",
   "id": "80fef979",
   "metadata": {
    "papermill": {
     "duration": 0.006524,
     "end_time": "2024-08-27T14:51:40.559152",
     "exception": false,
     "start_time": "2024-08-27T14:51:40.552628",
     "status": "completed"
    },
    "tags": []
   },
   "source": [
    "-----------\n",
    "# Data Cleaning Done!\n",
    "- Changed every Null value in the \"director\" column with \"unkown\" cause a 2634 rows had null values\n",
    "- Changed every Null value in the \"cast\" column with \"unkown\" cause a 825 rows had null values\n",
    "- Changed every Null value in the \"country\" column with \"unkown\" cause a 831 rows had null values\n",
    "- Droped 10 Null value in the \"date_added\" column\n",
    "- Droped 4 Null value in the \"rating\" column\n",
    "- Droped 3 Null value in the \"duration\" column\n",
    "- No Duplicates found\n",
    "\n",
    "\n"
   ]
  },
  {
   "cell_type": "markdown",
   "id": "9036d05b",
   "metadata": {
    "papermill": {
     "duration": 0.006817,
     "end_time": "2024-08-27T14:51:40.574979",
     "exception": false,
     "start_time": "2024-08-27T14:51:40.568162",
     "status": "completed"
    },
    "tags": []
   },
   "source": [
    "-----------------\n",
    "# Distribution of Show Types"
   ]
  },
  {
   "cell_type": "code",
   "execution_count": 8,
   "id": "a5022339",
   "metadata": {
    "execution": {
     "iopub.execute_input": "2024-08-27T14:51:40.590581Z",
     "iopub.status.busy": "2024-08-27T14:51:40.590091Z",
     "iopub.status.idle": "2024-08-27T14:51:40.899809Z",
     "shell.execute_reply": "2024-08-27T14:51:40.898317Z"
    },
    "papermill": {
     "duration": 0.320936,
     "end_time": "2024-08-27T14:51:40.902723",
     "exception": false,
     "start_time": "2024-08-27T14:51:40.581787",
     "status": "completed"
    },
    "tags": []
   },
   "outputs": [
    {
     "data": {
      "image/png": "[encoded data removed]",
      "text/plain": [
       "<Figure size 640x480 with 1 Axes>"
      ]
     },
     "metadata": {},
     "output_type": "display_data"
    }
   ],
   "source": [
    "sns.countplot(x='type', data=df)\n",
    "plt.title('Distribution of Show Types')\n",
    "plt.show()"
   ]
  },
  {
   "cell_type": "markdown",
   "id": "73582b4f",
   "metadata": {
    "papermill": {
     "duration": 0.006846,
     "end_time": "2024-08-27T14:51:40.917128",
     "exception": false,
     "start_time": "2024-08-27T14:51:40.910282",
     "status": "completed"
    },
    "tags": []
   },
   "source": [
    "--------------\n",
    "# Top 10 Countries by Nymber of Shows"
   ]
  },
  {
   "cell_type": "code",
   "execution_count": 9,
   "id": "cb19ad13",
   "metadata": {
    "execution": {
     "iopub.execute_input": "2024-08-27T14:51:40.933688Z",
     "iopub.status.busy": "2024-08-27T14:51:40.933230Z",
     "iopub.status.idle": "2024-08-27T14:51:41.286546Z",
     "shell.execute_reply": "2024-08-27T14:51:41.285277Z"
    },
    "papermill": {
     "duration": 0.365302,
     "end_time": "2024-08-27T14:51:41.289463",
     "exception": false,
     "start_time": "2024-08-27T14:51:40.924161",
     "status": "completed"
    },
    "tags": []
   },
   "outputs": [
    {
     "data": {
      "image/png": "[encoded data removed]",
      "text/plain": [
       "<Figure size 640x480 with 1 Axes>"
      ]
     },
     "metadata": {},
     "output_type": "display_data"
    }
   ],
   "source": [
    "top_10_countries = df['country'].value_counts().head(10)\n",
    "sns.barplot(x='country', y='count', data=top_10_countries.reset_index(name='count'))\n",
    "plt.title('Top 10 Countries by Number of Shows')\n",
    "plt.xticks(rotation=45)\n",
    "plt.show()"
   ]
  },
  {
   "cell_type": "markdown",
   "id": "bc605e5e",
   "metadata": {
    "papermill": {
     "duration": 0.007451,
     "end_time": "2024-08-27T14:51:41.305234",
     "exception": false,
     "start_time": "2024-08-27T14:51:41.297783",
     "status": "completed"
    },
    "tags": []
   },
   "source": [
    "--------------\n",
    "# Top 20 Years by Number of Shows"
   ]
  },
  {
   "cell_type": "code",
   "execution_count": 10,
   "id": "03c2baeb",
   "metadata": {
    "execution": {
     "iopub.execute_input": "2024-08-27T14:51:41.322734Z",
     "iopub.status.busy": "2024-08-27T14:51:41.322260Z",
     "iopub.status.idle": "2024-08-27T14:51:41.780277Z",
     "shell.execute_reply": "2024-08-27T14:51:41.778974Z"
    },
    "papermill": {
     "duration": 0.470319,
     "end_time": "2024-08-27T14:51:41.783482",
     "exception": false,
     "start_time": "2024-08-27T14:51:41.313163",
     "status": "completed"
    },
    "tags": []
   },
   "outputs": [
    {
     "data": {
      "image/png": "[encoded data removed]",
      "text/plain": [
       "<Figure size 640x480 with 1 Axes>"
      ]
     },
     "metadata": {},
     "output_type": "display_data"
    }
   ],
   "source": [
    "# Group by release year and count the number of shows\n",
    "shows_by_year = df.groupby('release_year').size().reset_index(name='count')\n",
    "\n",
    "top_20_years = shows_by_year.nlargest(20, 'count')\n",
    "\n",
    "sns.barplot(x='release_year', y='count', data=top_20_years)\n",
    "plt.title('Top 20 Years by Number of Shows')\n",
    "plt.xlabel('Release Year')\n",
    "plt.ylabel('Number of Shows')\n",
    "plt.xticks(rotation=45)\n",
    "plt.show()"
   ]
  }
 ],
 "metadata": {
  "kaggle": {
   "accelerator": "none",
   "dataSources": [
    {
     "datasetId": 434238,
     "sourceId": 2654038,
     "sourceType": "datasetVersion"
    }
   ],
   "dockerImageVersionId": 30761,
   "isGpuEnabled": false,
   "isInternetEnabled": true,
   "language": "python",
   "sourceType": "notebook"
  },
  "kernelspec": {
   "display_name": "Python 3",
   "language": "python",
   "name": "python3"
  },
  "language_info": {
   "codemirror_mode": {
    "name": "ipython",
    "version": 3
   },
   "file_extension": ".py",
   "mimetype": "text/x-python",
   "name": "python",
   "nbconvert_exporter": "python",
   "pygments_lexer": "ipython3",
   "version": "3.10.14"
  },
  "papermill": {
   "default_parameters": {},
   "duration": 8.156684,
   "end_time": "2024-08-27T14:51:42.516026",
   "environment_variables": {},
   "exception": null,
   "input_path": "__notebook__.ipynb",
   "output_path": "__notebook__.ipynb",
   "parameters": {},
   "start_time": "2024-08-27T14:51:34.359342",
   "version": "2.6.0"
  }
 },
 "nbformat": 4,
 "nbformat_minor": 5
}
